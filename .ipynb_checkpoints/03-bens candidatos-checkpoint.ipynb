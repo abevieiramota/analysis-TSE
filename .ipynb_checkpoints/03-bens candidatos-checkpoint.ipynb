{
 "metadata": {
  "name": "",
  "signature": "sha256:15170fce523d88837b3efefb47c02c135e54b47942fff935b3b3501628854557"
 },
 "nbformat": 3,
 "nbformat_minor": 0,
 "worksheets": [
  {
   "cells": [
    {
     "cell_type": "code",
     "collapsed": false,
     "input": [
      "import pandas as pd\n",
      "%matplotlib inline"
     ],
     "language": "python",
     "metadata": {},
     "outputs": [],
     "prompt_number": 1
    },
    {
     "cell_type": "heading",
     "level": 2,
     "metadata": {},
     "source": [
      "Configura\u00e7\u00f5es"
     ]
    },
    {
     "cell_type": "code",
     "collapsed": false,
     "input": [
      "SEP = ';'\n",
      "ENCODING = \"iso-8859-1\"\n",
      "\n",
      "BASES = {\n",
      "    \"candidato\": {\n",
      "        \"path_template\": \"../scripts/estatistica/sead/odsele/consulta_cand/consulta_cand_{ano}/consulta_cand_{ano}_{estado}.txt\",\n",
      "        \"names\": [\"DATA_GERACAO\", \"HORA_GERACAO\", \"ANO_ELEICAO\", \"NUM_TURNO\",\n",
      "                  \"DESCRICAO_ELEICAO\", \"SIGLA_UF\", \"SIGLA_UE\", \"DESCRICAO_UE\",\n",
      "                  \"CODIGO_CARGO\", \"DESCRICAO_CARGO\", \"NOME_CANDIDATO\", \n",
      "                  \"SEQUENCIAL_CANDIDATO\", \"NUMERO_CANDIDATO\",\n",
      "                  \"NOME_URNA_CANDIDATO\", \"COD_SITUACAO_CANDIDATURA\",\n",
      "                  \"DES_SITUACAO_CANDIDATURA\", \"NUMERO_PARTIDO\", \"SIGLA_PARTIDO\",\n",
      "                  \"NOME_PARTIDO\", \"CODIGO_LEGENDA\", \"SIGLA_LEGENDA\", \n",
      "                  \"COMPOSICAO_LEGENDA\", \"NOME_LEGENDA\", \"CODIGO_OCUPACAO\",\n",
      "                  \"DESCRICAO_OCUPACAO\", \"DATA_NASCIMENTO\",\n",
      "                  \"NUM_TITULO_ELEITORAL_CANDIDATO\", \"IDADE_DATA_ELEICAO\",\n",
      "                  \"CODIGO_SEXO\", \"DESCRICAO_SEXO\", \"COD_GRAU_INSTRUCAO\",\n",
      "                  \"DESCRICAO_GRAU_INSTRUCAO\", \"CODIGO_ESTADO_CIVIL\",\n",
      "                  \"DESCRICAO_ESTADO_CIVIL\", \"CODIGO_NACIONALIDADE\",\n",
      "                  \"DESCRICAO_NACIONALIDADE\", \"SIGLA_UF_NASCIMENTO\",\n",
      "                  \"CODIGO_MUNICIPIO_NASCIMENTO\", \"NOME_MUNICIPIO_NASCIMENTO\",\n",
      "                  \"DESPESA_MAX_CAMPANHA\", \"COD_SIT_TOT_TURNO\", \n",
      "                  \"DESC_SIT_TOT_TURNO\"]\n",
      "                },\n",
      "    \"bens dos candidatos\": {\n",
      "        \"path_template\": \"../scripts/estatistica/sead/odsele/bem_candidato/bem_candidato_{ano}/bem_candidato_{ano}_{estado}.txt\",\n",
      "        # names provenientes da descri\u00e7\u00e3o do arquivo em LEIAME.pdf\n",
      "        \"names\": [\"DATA_GERACAO\", \"HORA_GERACAO\", \"ANO_ELEICAO\", \"DESCRICAO_ELEICAO\", \"SIGLA_UF\", \n",
      "                  \"SQ_CANDIDATO\", \"CD_TIPO_BEM_CANDIDATO\", \"TIPO_BEM_CANDIDATO\", \"DS_TIPO_BEM_CANDIDATO\", \"VALOR_BEM\", \n",
      "                  \"DATA_ULTIMA_ATUALIZACAO\", \"HORA_ULTIMA_ATUALIZACAO\"] # adicionei a coluna TIPO_BEM_CANDIDATO\n",
      "                }\n",
      "}"
     ],
     "language": "python",
     "metadata": {},
     "outputs": [],
     "prompt_number": 2
    },
    {
     "cell_type": "heading",
     "level": 2,
     "metadata": {},
     "source": [
      "Fun\u00e7\u00f5es"
     ]
    },
    {
     "cell_type": "code",
     "collapsed": false,
     "input": [
      "def get_cfg(base_name, estado, ano, **kwargs):\n",
      "    \"\"\" Fun\u00e7\u00e3o que retorna uma configura\u00e7\u00e3o de leitura de um arquivo,\n",
      "    para utiliza\u00e7\u00e3o com a fun\u00e7\u00e3o read_csv, do pandas, a partir do \n",
      "    nome da base, sigla do estado e ano.\n",
      "    \n",
      "    Algumas configura\u00e7\u00f5es s\u00e3o padr\u00f5es, como sep(separator) e encoding,\n",
      "    sendo ignoradas caso sejam passadas como par\u00e2metro.    \n",
      "    \"\"\"\n",
      "    \n",
      "    file_path = BASES[base_name][\"path_template\"].format(estado=estado, ano=ano)\n",
      "    names = BASES[base_name][\"names\"]\n",
      "    \n",
      "    # defaults\n",
      "    cfg = {\n",
      "        \"filepath_or_buffer\": file_path,\n",
      "        \"names\": names,\n",
      "        \"sep\": SEP,\n",
      "        \"encoding\": ENCODING\n",
      "        }\n",
      "    \n",
      "    # user defined\n",
      "    cfg.update(kwargs)\n",
      "    \n",
      "    return cfg"
     ],
     "language": "python",
     "metadata": {},
     "outputs": [],
     "prompt_number": 3
    },
    {
     "cell_type": "heading",
     "level": 1,
     "metadata": {},
     "source": [
      "An\u00e1lise dos bens dos candidatos de 2006 a 2014"
     ]
    },
    {
     "cell_type": "markdown",
     "metadata": {},
     "source": [
      "Primeiro iremos concatenar os arquivos de cada ano e realizar uma an\u00e1lise com o **Openrefine**, **a fim de identificar problemas como os dados, como o registro do Eun\u00edcio, que ora aparece com acento, ora sem**."
     ]
    },
    {
     "cell_type": "markdown",
     "metadata": {},
     "source": [
      "Olhando os dados de 2006 e de 2010, vemos que o campo **SQ_CANDIDATO** varia, para uma mesma pessoa, a cada elei\u00e7\u00e3o.\\*   \n",
      "Devemos ent\u00e3o primeiro fazermos o join de cada declara\u00e7\u00e3o de bens com as informa\u00e7\u00f5es do candidato, para cada ano.\n",
      "\n",
      "\\* basta olhar os dados do CID GOMES"
     ]
    },
    {
     "cell_type": "code",
     "collapsed": false,
     "input": [
      "ANOS = [2006, 2008, 2010, 2012, 2014]\n",
      "\n",
      "dfs = []\n",
      "\n",
      "for ano in ANOS:\n",
      "    \n",
      "    bens = pd.read_csv(**get_cfg(\"bens dos candidatos\", \"CE\", ano))\n",
      "    candidato = pd.read_csv(**get_cfg(\"candidato\", \"CE\", ano))\n",
      "    \n",
      "    df = bens.merge(candidato, \n",
      "                    suffixes=(\"_BEM\", \"_CAND\"), \n",
      "                    left_on=\"SQ_CANDIDATO\", \n",
      "                    right_on=\"SEQUENCIAL_CANDIDATO\",\n",
      "                    how=\"inner\")\n",
      "    \n",
      "    dfs.append(df)"
     ],
     "language": "python",
     "metadata": {},
     "outputs": [],
     "prompt_number": 12
    },
    {
     "cell_type": "code",
     "collapsed": false,
     "input": [
      "bem_CE_2006_to_2014 = pd.concat(dfs)"
     ],
     "language": "python",
     "metadata": {},
     "outputs": [],
     "prompt_number": 13
    },
    {
     "cell_type": "code",
     "collapsed": false,
     "input": [
      "bem_CE_2006_to_2014.to_csv(\"bem.csv\", encoding=\"utf-8\")"
     ],
     "language": "python",
     "metadata": {},
     "outputs": [],
     "prompt_number": 14
    },
    {
     "cell_type": "heading",
     "level": 3,
     "metadata": {},
     "source": [
      "Projeto Openrefine"
     ]
    },
    {
     "cell_type": "code",
     "collapsed": false,
     "input": [
      "!ls ../openrefine"
     ],
     "language": "python",
     "metadata": {},
     "outputs": [
      {
       "output_type": "stream",
       "stream": "stdout",
       "text": [
        "TSE-bens-e-candidatos-2006-a-2014.google-refine.tar.gz\r\n"
       ]
      }
     ],
     "prompt_number": 16
    },
    {
     "cell_type": "markdown",
     "metadata": {},
     "source": [
      "Faz-se necess\u00e1rio clusterizar colunas textuais e analisar as similaridades.  \n",
      "Como exemplo, para a coluna DS_TIPO_BEM_CAND, o seguinte valor assume, dentre outros, as seguintes formas(quantidade de ocorr\u00eancias no par\u00eantese):  \n",
      "\n",
      "DINHEIRO EM ESPECIE MOEDA NACIONAL(83 rows)  \n",
      "DINHEIRO EM ESP\u00c9CIE - MOEDA NACIONAL(31 rows)"
     ]
    },
    {
     "cell_type": "code",
     "collapsed": false,
     "input": [],
     "language": "python",
     "metadata": {},
     "outputs": []
    }
   ],
   "metadata": {}
  }
 ]
}