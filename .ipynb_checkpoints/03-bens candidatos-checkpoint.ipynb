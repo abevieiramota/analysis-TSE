{
 "metadata": {
  "name": "",
  "signature": "sha256:8953d782483eeaa24a14cc33c51abe83a1c210aac667b7c978d3ea2ec83b7a9a"
 },
 "nbformat": 3,
 "nbformat_minor": 0,
 "worksheets": [
  {
   "cells": [
    {
     "cell_type": "code",
     "collapsed": false,
     "input": [
      "import pandas as pd\n",
      "%matplotlib inline"
     ],
     "language": "python",
     "metadata": {},
     "outputs": [],
     "prompt_number": 1
    },
    {
     "cell_type": "heading",
     "level": 2,
     "metadata": {},
     "source": [
      "Configura\u00e7\u00f5es"
     ]
    },
    {
     "cell_type": "code",
     "collapsed": false,
     "input": [
      "SEP = ';'\n",
      "ENCODING = \"iso-8859-1\"\n",
      "\n",
      "BASES = {\n",
      "    \"candidato\": {\n",
      "        \"path_template\": \"../scripts/estatistica/sead/odsele/consulta_cand/consulta_cand_{ano}/consulta_cand_{ano}_{estado}.txt\",\n",
      "                },\n",
      "    \"bens dos candidatos\": {\n",
      "        \"path_template\": \"../scripts/estatistica/sead/odsele/bem_candidato/bem_candidato_{ano}/bem_candidato_{ano}_{estado}.txt\",\n",
      "        # names provenientes da descri\u00e7\u00e3o do arquivo em LEIAME.pdf\n",
      "        \"names\": [\"DATA_GERACAO\", \"HORA_GERACAO\", \"ANO_ELEICAO\", \"DESCRICAO_ELEICAO\", \"SIGLA_UF\", \n",
      "                  \"SQ_CANDIDATO\", \"CD_TIPO_BEM_CANDIDATO\", \"TIPO_BEM_CANDIDATO\", \"DS_TIPO_BEM_CANDIDATO\", \"VALOR_BEM\", \n",
      "                  \"DATA_ULTIMA_ATUALIZACAO\", \"HORA_ULTIMA_ATUALIZACAO\"] # adicionei a coluna TIPO_BEM_CANDIDATO\n",
      "                }\n",
      "}"
     ],
     "language": "python",
     "metadata": {},
     "outputs": [],
     "prompt_number": 46
    },
    {
     "cell_type": "heading",
     "level": 2,
     "metadata": {},
     "source": [
      "Fun\u00e7\u00f5es"
     ]
    },
    {
     "cell_type": "code",
     "collapsed": false,
     "input": [
      "def read_base(base_name, estado, ano, **kwargs):\n",
      "    \n",
      "    file_path = BASES[base_name][\"path_template\"].format(estado=estado, ano=ano)\n",
      "    names = BASES[base_name][\"names\"]\n",
      "    \n",
      "    return pd.read_csv(file_path, sep=SEP, encoding=ENCODING, names=names, **kwargs)\n",
      "\n",
      "def get_cfg(base_name, estado, ano, **kwargs):\n",
      "    \n",
      "    file_path = BASES[base_name][\"path_template\"].format(estado=estado, ano=ano)\n",
      "    names = BASES[base_name][\"names\"]\n",
      "    \n",
      "    # defaults\n",
      "    cfg = {\n",
      "        \"filepath_or_buffer\": file_path,\n",
      "        \"names\": names,\n",
      "        \"sep\": SEP,\n",
      "        \"encoding\": ENCODING\n",
      "        }\n",
      "    \n",
      "    # user defined\n",
      "    cfg.update(kwargs)\n",
      "    \n",
      "    return cfg"
     ],
     "language": "python",
     "metadata": {},
     "outputs": [],
     "prompt_number": 47
    },
    {
     "cell_type": "code",
     "collapsed": false,
     "input": [
      "bens_CE_2014 = pd.read_csv(**get_cfg(\"bens dos candidatos\", \"CE\", 2014))\n",
      "bens_CE_2010 = read_base(\"bens dos candidatos\", \"CE\", 2010)"
     ],
     "language": "python",
     "metadata": {},
     "outputs": [],
     "prompt_number": 51
    },
    {
     "cell_type": "code",
     "collapsed": false,
     "input": [],
     "language": "python",
     "metadata": {},
     "outputs": []
    },
    {
     "cell_type": "code",
     "collapsed": false,
     "input": [],
     "language": "python",
     "metadata": {},
     "outputs": []
    }
   ],
   "metadata": {}
  }
 ]
}