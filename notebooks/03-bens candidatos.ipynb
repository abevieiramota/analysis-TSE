{
 "metadata": {
  "name": "",
  "signature": "sha256:6e0fdff17af72758e56c55a192e04b74d59c76f90eb98358d732cb103a210297"
 },
 "nbformat": 3,
 "nbformat_minor": 0,
 "worksheets": [
  {
   "cells": [
    {
     "cell_type": "code",
     "collapsed": false,
     "input": [
      "import pandas as pd\n",
      "%matplotlib inline"
     ],
     "language": "python",
     "metadata": {},
     "outputs": [],
     "prompt_number": 1
    },
    {
     "cell_type": "heading",
     "level": 2,
     "metadata": {},
     "source": [
      "Configura\u00e7\u00f5es"
     ]
    },
    {
     "cell_type": "code",
     "collapsed": false,
     "input": [
      "SEP = ';'\n",
      "ENCODING = \"iso-8859-1\"\n",
      "\n",
      "BASES = {\n",
      "    \"candidato\": {\n",
      "        \"path_template\": \"../scripts/estatistica/sead/odsele/consulta_cand/consulta_cand_{ano}/consulta_cand_{ano}_{estado}.txt\",\n",
      "                },\n",
      "    \"bens dos candidatos\": {\n",
      "        \"path_template\": \"../scripts/estatistica/sead/odsele/bem_candidato/bem_candidato_{ano}/bem_candidato_{ano}_{estado}.txt\",\n",
      "        # names provenientes da descri\u00e7\u00e3o do arquivo em LEIAME.pdf\n",
      "        \"names\": [\"DATA_GERACAO\", \"HORA_GERACAO\", \"ANO_ELEICAO\", \"DESCRICAO_ELEICAO\", \"SIGLA_UF\", \n",
      "                  \"SQ_CANDIDATO\", \"CD_TIPO_BEM_CANDIDATO\", \"TIPO_BEM_CANDIDATO\", \"DS_TIPO_BEM_CANDIDATO\", \"VALOR_BEM\", \n",
      "                  \"DATA_ULTIMA_ATUALIZACAO\", \"HORA_ULTIMA_ATUALIZACAO\"] # adicionei a coluna TIPO_BEM_CANDIDATO\n",
      "                }\n",
      "}"
     ],
     "language": "python",
     "metadata": {},
     "outputs": [],
     "prompt_number": 46
    },
    {
     "cell_type": "heading",
     "level": 2,
     "metadata": {},
     "source": [
      "Fun\u00e7\u00f5es"
     ]
    },
    {
     "cell_type": "code",
     "collapsed": false,
     "input": [
      "def get_cfg(base_name, estado, ano, **kwargs):\n",
      "    \"\"\" Fun\u00e7\u00e3o que retorna uma configura\u00e7\u00e3o de leitura de um arquivo,\n",
      "    para utiliza\u00e7\u00e3o com a fun\u00e7\u00e3o read_csv, do pandas, a partir do \n",
      "    nome da base, sigla do estado e ano.\n",
      "    \n",
      "    Algumas configura\u00e7\u00f5es s\u00e3o padr\u00f5es, como sep(separator) e encoding,\n",
      "    sendo ignoradas caso sejam passadas como par\u00e2metro.    \n",
      "    \"\"\"\n",
      "    \n",
      "    file_path = BASES[base_name][\"path_template\"].format(estado=estado, ano=ano)\n",
      "    names = BASES[base_name][\"names\"]\n",
      "    \n",
      "    # defaults\n",
      "    cfg = {\n",
      "        \"filepath_or_buffer\": file_path,\n",
      "        \"names\": names,\n",
      "        \"sep\": SEP,\n",
      "        \"encoding\": ENCODING\n",
      "        }\n",
      "    \n",
      "    # user defined\n",
      "    cfg.update(kwargs)\n",
      "    \n",
      "    return cfg"
     ],
     "language": "python",
     "metadata": {},
     "outputs": [],
     "prompt_number": 53
    },
    {
     "cell_type": "heading",
     "level": 1,
     "metadata": {},
     "source": [
      "An\u00e1lise dos bens dos candidatos de 2006 a 2014"
     ]
    },
    {
     "cell_type": "markdown",
     "metadata": {},
     "source": [
      "Primeiro iremos concatenar os arquivos de cada ano e realizar uma an\u00e1lise com o **Openrefine**, **a fim de identificar problemas como os dados, como o registro do Eun\u00edcio, que ora aparece com acento, ora sem**."
     ]
    },
    {
     "cell_type": "code",
     "collapsed": false,
     "input": [
      "ANOS = [2006, 2008, 2010, 2012, 2014]\n",
      "\n",
      "dfs = []\n",
      "\n",
      "for ano in ANOS:\n",
      "    \n",
      "    df = pd.read_csv(**get_cfg(\"bens dos candidatos\", \"CE\", ano))\n",
      "    dfs.append(df)"
     ],
     "language": "python",
     "metadata": {},
     "outputs": [],
     "prompt_number": 61
    },
    {
     "cell_type": "code",
     "collapsed": false,
     "input": [
      "bem_CE_2006_to_2014 = pd.concat(dfs)"
     ],
     "language": "python",
     "metadata": {},
     "outputs": [],
     "prompt_number": 78
    },
    {
     "cell_type": "code",
     "collapsed": false,
     "input": [
      "bem_CE_2006_to_2014[:2]"
     ],
     "language": "python",
     "metadata": {},
     "outputs": [
      {
       "html": [
        "<div style=\"max-height:1000px;max-width:1500px;overflow:auto;\">\n",
        "<table border=\"1\" class=\"dataframe\">\n",
        "  <thead>\n",
        "    <tr style=\"text-align: right;\">\n",
        "      <th></th>\n",
        "      <th>DATA_GERACAO</th>\n",
        "      <th>HORA_GERACAO</th>\n",
        "      <th>ANO_ELEICAO</th>\n",
        "      <th>DESCRICAO_ELEICAO</th>\n",
        "      <th>SIGLA_UF</th>\n",
        "      <th>SQ_CANDIDATO</th>\n",
        "      <th>CD_TIPO_BEM_CANDIDATO</th>\n",
        "      <th>TIPO_BEM_CANDIDATO</th>\n",
        "      <th>DS_TIPO_BEM_CANDIDATO</th>\n",
        "      <th>VALOR_BEM</th>\n",
        "      <th>DATA_ULTIMA_ATUALIZACAO</th>\n",
        "      <th>HORA_ULTIMA_ATUALIZACAO</th>\n",
        "    </tr>\n",
        "  </thead>\n",
        "  <tbody>\n",
        "    <tr>\n",
        "      <th>0</th>\n",
        "      <td> 26/02/2013</td>\n",
        "      <td> 16:23:39</td>\n",
        "      <td> 2006</td>\n",
        "      <td> ELEICOES 2006</td>\n",
        "      <td> CE</td>\n",
        "      <td> 10053</td>\n",
        "      <td>-1</td>\n",
        "      <td> #NE#</td>\n",
        "      <td> 01 CASA RESIDENCIAL NA RUA CASTELO DE CASTRO, ...</td>\n",
        "      <td>     0</td>\n",
        "      <td> #NE#</td>\n",
        "      <td> #NE#</td>\n",
        "    </tr>\n",
        "    <tr>\n",
        "      <th>1</th>\n",
        "      <td> 26/02/2013</td>\n",
        "      <td> 16:23:39</td>\n",
        "      <td> 2006</td>\n",
        "      <td> ELEICOES 2006</td>\n",
        "      <td> CE</td>\n",
        "      <td> 10054</td>\n",
        "      <td>-1</td>\n",
        "      <td> #NE#</td>\n",
        "      <td>     01 APARTAMENTO NA RUA CARLOS BARBOSA, 393/201</td>\n",
        "      <td> 50000</td>\n",
        "      <td> #NE#</td>\n",
        "      <td> #NE#</td>\n",
        "    </tr>\n",
        "  </tbody>\n",
        "</table>\n",
        "<p>2 rows \u00d7 12 columns</p>\n",
        "</div>"
       ],
       "metadata": {},
       "output_type": "pyout",
       "prompt_number": 81,
       "text": [
        "  DATA_GERACAO HORA_GERACAO  ANO_ELEICAO DESCRICAO_ELEICAO SIGLA_UF  \\\n",
        "0   26/02/2013     16:23:39         2006     ELEICOES 2006       CE   \n",
        "1   26/02/2013     16:23:39         2006     ELEICOES 2006       CE   \n",
        "\n",
        "   SQ_CANDIDATO  CD_TIPO_BEM_CANDIDATO TIPO_BEM_CANDIDATO  \\\n",
        "0         10053                     -1               #NE#   \n",
        "1         10054                     -1               #NE#   \n",
        "\n",
        "                               DS_TIPO_BEM_CANDIDATO  VALOR_BEM  \\\n",
        "0  01 CASA RESIDENCIAL NA RUA CASTELO DE CASTRO, ...          0   \n",
        "1      01 APARTAMENTO NA RUA CARLOS BARBOSA, 393/201      50000   \n",
        "\n",
        "  DATA_ULTIMA_ATUALIZACAO HORA_ULTIMA_ATUALIZACAO  \n",
        "0                    #NE#                    #NE#  \n",
        "1                    #NE#                    #NE#  \n",
        "\n",
        "[2 rows x 12 columns]"
       ]
      }
     ],
     "prompt_number": 81
    },
    {
     "cell_type": "markdown",
     "metadata": {},
     "source": [
      "Salvaremos os dados num arquivo e analisaremos com o Openrefine."
     ]
    },
    {
     "cell_type": "code",
     "collapsed": false,
     "input": [
      "bem_CE_2006_to_2014.to_csv(\"bem_CE_2006_to_2014.csv\", encoding=\"utf-8\")"
     ],
     "language": "python",
     "metadata": {},
     "outputs": [],
     "prompt_number": 83
    },
    {
     "cell_type": "code",
     "collapsed": false,
     "input": [],
     "language": "python",
     "metadata": {},
     "outputs": []
    }
   ],
   "metadata": {}
  }
 ]
}